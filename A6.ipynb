{
 "cells": [
  {
   "cell_type": "code",
   "execution_count": 322,
   "metadata": {},
   "outputs": [],
   "source": [
    "import csv\n",
    "import numpy as np\n",
    "from matplotlib import pyplot as plt\n",
    "import pandas as pd\n",
    "from statistics import mean"
   ]
  },
  {
   "cell_type": "code",
   "execution_count": 323,
   "metadata": {},
   "outputs": [],
   "source": [
    "# Reading the CSV file\n",
    "def read_csv(filename):\n",
    "    Hours = []\n",
    "    Marks = []\n",
    "    file = open(filename, 'r')\n",
    "    reader = csv.reader(file)\n",
    "    next(reader)\n",
    "    for row in reader:\n",
    "        Hours.append(int(row[0]))\n",
    "        Marks.append(int(row[1]))\n",
    "    file.close()\n",
    "    # changinf to numpy vectors/ arrays\n",
    "    Hours = np.array(Hours)\n",
    "    Marks = np.array(Marks)\n",
    "    \n",
    "    return Hours, Marks"
   ]
  },
  {
   "cell_type": "code",
   "execution_count": 347,
   "metadata": {},
   "outputs": [],
   "source": [
    "#visualising the data with Scatter Plot\n",
    "def scatterplot(Hours, Marks):\n",
    "    plt.scatter(Hours, Marks, edgecolors='r')\n",
    "    plt.xlabel('Study of Hours')\n",
    "    plt.ylabel('Marks Scored')\n",
    "    plt.show()"
   ]
  },
  {
   "cell_type": "code",
   "execution_count": 348,
   "metadata": {},
   "outputs": [],
   "source": [
    "# Checking if association exists\n",
    "def find_corr_x_y(Hours,Marks):\n",
    "    n = len(Hours)\n",
    "    # Find the sum of the products\n",
    "    product = []\n",
    "    for xi,yi in zip(Hours,Marks):\n",
    "        product.append(xi*yi)\n",
    "    \n",
    "    SumProductHoursMarks = sum(product)\n",
    "    sumHours = sum(Hours)\n",
    "    sumMarks = sum(Marks)\n",
    "    squared_sum_Hours = sumHours**2\n",
    "    squared_sum_Marks = sumMarks**2\n",
    "    Hours_square = []\n",
    "    \n",
    "    for xi in Hours:\n",
    "        Hours_square.append(xi**2)\n",
    "    # Find the sum\n",
    "    Hours_square_sum = sum(Hours_square)\n",
    "    Marks_square=[]\n",
    "    \n",
    "    for yi in Marks:\n",
    "        Marks_square.append(yi**2)\n",
    "   \n",
    "    # Find the sum\n",
    "    Marks_square_sum = sum(Marks_square)\n",
    "    \n",
    "    # Use formula to calculate correlation\n",
    "    numerator = n*SumProductHoursMarks - sumHours*sumMarks\n",
    "    denominator_term1 = n*Hours_square_sum - squared_sum_Hours\n",
    "    denominator_term2 = n*Marks_square_sum - squared_sum_Marks\n",
    "    denominator = (denominator_term1*denominator_term2)**0.5\n",
    "    correlation = numerator/denominator\n",
    "\n",
    "    return correlation"
   ]
  },
  {
   "cell_type": "code",
   "execution_count": 349,
   "metadata": {},
   "outputs": [],
   "source": [
    "# y = b0 + b1x1 \n",
    "# Calculating Beta0 and Beta1\n",
    "def B0_and_B1(Hours, Marks):\n",
    "    df = pd.DataFrame(\n",
    "    {'X': Hours,\n",
    "     'y': Marks}\n",
    "    )\n",
    "    \n",
    "    Hoursmean = np.mean(Hours)\n",
    "    Marksmean = np.mean(Marks)\n",
    "\n",
    "    # Calculate the terms needed for the numator and denominator of beta\n",
    "    df['xycov'] = (df['X'] - Hoursmean) * (df['y'] - Marksmean)\n",
    "    df['xvar'] = (df['X'] - Hoursmean)**2\n",
    "\n",
    "    # Calculate beta and alpha\n",
    "    B1 = df['xycov'].sum() / df['xvar'].sum()\n",
    "    B0 = Marksmean - (B1 * Hoursmean)\n",
    "    return B0, B1"
   ]
  },
  {
   "cell_type": "code",
   "execution_count": 350,
   "metadata": {},
   "outputs": [],
   "source": [
    "# Fitting the Model\n",
    "def model_fitting(B0, B1, Hours): \n",
    "    return (B0 + B1*Hours)"
   ]
  },
  {
   "cell_type": "code",
   "execution_count": 356,
   "metadata": {},
   "outputs": [],
   "source": [
    "# Printing Regression Line / Fitted line\n",
    "def Plot_fitted_line(Hours, Marks, Y):\n",
    "    plt.scatter(Hours, Marks, color = 'red', label = \"Data\")\n",
    "    plt.plot(Hours, Y, label=\"Fitted Line\")\n",
    "    plt.legend()\n",
    "    plt.show()"
   ]
  },
  {
   "cell_type": "code",
   "execution_count": 357,
   "metadata": {},
   "outputs": [],
   "source": [
    "# Calculating R_squared\n",
    "def R_Squared(Marks, Y):\n",
    "    meanMarks = mean(Marks)\n",
    "    squaredMarks = sum((Marks - meanMarks)**2)\n",
    "    squaredFitMarks = sum((Y - meanMarks)**2)\n",
    "    return squaredFitMarks/squaredMarks"
   ]
  },
  {
   "cell_type": "code",
   "execution_count": 358,
   "metadata": {},
   "outputs": [
    {
     "name": "stdout",
     "output_type": "stream",
     "text": [
      "Visualising the data :\n"
     ]
    },
    {
     "data": {
      "image/png": "[encoded data removed]",
      "text/plain": [
       "<Figure size 432x288 with 1 Axes>"
      ]
     },
     "metadata": {
      "needs_background": "light"
     },
     "output_type": "display_data"
    },
    {
     "name": "stdout",
     "output_type": "stream",
     "text": [
      "----------------------------------------------------\n",
      "\n",
      "Correlation between Observations and Responses : 0.083213\n",
      "\n",
      "\n",
      "----------------------------------------------------\n",
      "Beta0 : 704.4\n",
      "Beta1 : 36.6\n",
      "\n",
      "\n",
      "----------------------------------------------------\n",
      "Plot of fitted Line : \n"
     ]
    },
    {
     "data": {
      "image/png": "[encoded data removed]",
      "text/plain": [
       "<Figure size 432x288 with 1 Axes>"
      ]
     },
     "metadata": {
      "needs_background": "light"
     },
     "output_type": "display_data"
    },
    {
     "name": "stdout",
     "output_type": "stream",
     "text": [
      "----------------------------------------------------\n",
      "\n",
      "R-Squared is : 0.006924908527156511\n",
      "\n",
      "----------------------------------------------------\n"
     ]
    }
   ],
   "source": [
    "# for reading the csv file\n",
    "Hours, Marks = read_csv('c.csv')\n",
    "\n",
    "# Visualising the data with scatter plot\n",
    "print(\"Visualising the data :\")\n",
    "scatterplot(Hours, Marks)\n",
    "\n",
    "#finding the correlation between observations and response variable\n",
    "print(\"----------------------------------------------------\")\n",
    "corr = find_corr_x_y(Hours, Marks)\n",
    "print(f\"\\nCorrelation between Observations and Responses : {corr:5f}\\n\\n\")\n",
    "\n",
    "# finding Beta0 and Beta1 from Observations\n",
    "print(\"----------------------------------------------------\")\n",
    "B0, B1 = B0_and_B1(Hours, Marks)\n",
    "print(\"Beta0 : {}\\nBeta1 : {}\\n\\n\".format(B0, B1))\n",
    "\n",
    "# fitting the model and getting estimated values in Y variable\n",
    "print(\"----------------------------------------------------\")\n",
    "Y = model_fitting(B0, B1, Hours)\n",
    "\n",
    "# plotting fitted line\n",
    "print(\"Plot of fitted Line : \")\n",
    "Plot_fitted_line(Hours, Marks, Y)\n",
    "\n",
    "# Calculating R-Square\n",
    "print(\"----------------------------------------------------\")\n",
    "RSquared = R_Squared(Marks, Y)\n",
    "print(f\"\\nR-Squared is : {RSquared}\\n\")\n",
    "print(\"----------------------------------------------------\")"
   ]
  },
  {
   "cell_type": "code",
   "execution_count": null,
   "metadata": {},
   "outputs": [],
   "source": []
  },
  {
   "cell_type": "code",
   "execution_count": null,
   "metadata": {},
   "outputs": [],
   "source": []
  },
  {
   "cell_type": "code",
   "execution_count": null,
   "metadata": {},
   "outputs": [],
   "source": []
  },
  {
   "cell_type": "code",
   "execution_count": null,
   "metadata": {},
   "outputs": [],
   "source": []
  }
 ],
 "metadata": {
  "kernelspec": {
   "display_name": "Python 3",
   "language": "python",
   "name": "python3"
  },
  "language_info": {
   "codemirror_mode": {
    "name": "ipython",
    "version": 3
   },
   "file_extension": ".py",
   "mimetype": "text/x-python",
   "name": "python",
   "nbconvert_exporter": "python",
   "pygments_lexer": "ipython3",
   "version": "3.7.6"
  }
 },
 "nbformat": 4,
 "nbformat_minor": 4
}
